{
 "cells": [
  {
   "cell_type": "code",
   "execution_count": 5,
   "metadata": {
    "collapsed": true
   },
   "outputs": [],
   "source": [
    "import tensorflow as tf\n",
    "import numpy as np\n",
    "import skflow"
   ]
  },
  {
   "cell_type": "code",
   "execution_count": 3,
   "metadata": {
    "collapsed": false
   },
   "outputs": [
    {
     "name": "stdout",
     "output_type": "stream",
     "text": [
      "4.000000 + 5.000000 = 20.000000\n"
     ]
    }
   ],
   "source": [
    "a = tf.placeholder(\"float\") # 创建符号变量\n",
    "b = tf.placeholder(\"float\") \n",
    "\n",
    "y = tf.mul(a, b) # 乘法操作，作用在符号变量上。\n",
    "\n",
    "sess = tf.Session() # 创建会话，计算符号变量表达式\n",
    "\n",
    "a1 = 4\n",
    "b1 = 5\n",
    "print \"%f + %f = %f\"%(4, 5,  sess.run(y, feed_dict={a: a1, b: b1}) )"
   ]
  },
  {
   "cell_type": "code",
   "execution_count": 4,
   "metadata": {
    "collapsed": false
   },
   "outputs": [
    {
     "name": "stdout",
     "output_type": "stream",
     "text": [
      "[-1.   -0.98 -0.96 -0.94 -0.92 -0.9  -0.88 -0.86 -0.84 -0.82 -0.8  -0.78\n",
      " -0.76 -0.74 -0.72 -0.7  -0.68 -0.66 -0.64 -0.62 -0.6  -0.58 -0.56 -0.54\n",
      " -0.52 -0.5  -0.48 -0.46 -0.44 -0.42 -0.4  -0.38 -0.36 -0.34 -0.32 -0.3\n",
      " -0.28 -0.26 -0.24 -0.22 -0.2  -0.18 -0.16 -0.14 -0.12 -0.1  -0.08 -0.06\n",
      " -0.04 -0.02  0.    0.02  0.04  0.06  0.08  0.1   0.12  0.14  0.16  0.18\n",
      "  0.2   0.22  0.24  0.26  0.28  0.3   0.32  0.34  0.36  0.38  0.4   0.42\n",
      "  0.44  0.46  0.48  0.5   0.52  0.54  0.56  0.58  0.6   0.62  0.64  0.66\n",
      "  0.68  0.7   0.72  0.74  0.76  0.78  0.8   0.82  0.84  0.86  0.88  0.9\n",
      "  0.92  0.94  0.96  0.98  1.  ]\n"
     ]
    }
   ],
   "source": [
    "trX = np.linspace(-1, 1, 101)\n",
    "print trX"
   ]
  },
  {
   "cell_type": "code",
   "execution_count": 5,
   "metadata": {
    "collapsed": false
   },
   "outputs": [
    {
     "name": "stdout",
     "output_type": "stream",
     "text": [
      "2.1181\n"
     ]
    }
   ],
   "source": [
    "# 生成训练数据 + 噪声，下面为了拟合 $$ Y = 2X $$ \n",
    "trX = np.linspace(-1, 1, 101)\n",
    "trY = 2 * trX + np.random.randn(*trX.shape) * 0.33 # y=2x，但是加入了噪声\n",
    "\n",
    "X = tf.placeholder(\"float\") #输入输出符号变量\n",
    "Y = tf.placeholder(\"float\")\n",
    "\n",
    "# 定义模型\n",
    "def model(X, w):\n",
    "    return tf.mul(X, w) # 线性回归只需要调用乘法操作即可。\n",
    "\n",
    "# 模型权重 W 用变量表示\n",
    "w = tf.Variable(0.0, name=\"weights\") # 共享变量\n",
    "y_model = model(X, w)\n",
    "\n",
    "# 定义损失函数\n",
    "cost = (tf.pow(Y-y_model, 2)) # 平方损失函数\n",
    "\n",
    "# 构建优化器，最小化损失函数。\n",
    "train_op = tf.train.GradientDescentOptimizer(0.01).minimize(cost) \n",
    "\n",
    "# 构建会话\n",
    "sess = tf.Session()\n",
    "\n",
    "# 初始化所有的符号共享变量\n",
    "init = tf.initialize_all_variables() \n",
    "\n",
    "# 运行会话\n",
    "sess.run(init)\n",
    "\n",
    "# 迭代训练\n",
    "for i in range(100):\n",
    "    for (x, y) in zip(trX, trY): \n",
    "        sess.run(train_op, feed_dict={X: x, Y: y})\n",
    "# 打印权重w\n",
    "print(sess.run(w))  "
   ]
  },
  {
   "cell_type": "code",
   "execution_count": 6,
   "metadata": {
    "collapsed": false
   },
   "outputs": [
    {
     "name": "stdout",
     "output_type": "stream",
     "text": [
      "Extracting MNIST_data/train-images-idx3-ubyte.gz\n",
      "Extracting MNIST_data/train-labels-idx1-ubyte.gz\n",
      "Extracting MNIST_data/t10k-images-idx3-ubyte.gz\n",
      "Extracting MNIST_data/t10k-labels-idx1-ubyte.gz\n",
      "0 0.8831\n",
      "1 0.8967\n",
      "2 0.9037\n",
      "3 0.9073\n",
      "4 0.9099\n",
      "5 0.9107\n",
      "6 0.912\n",
      "7 0.9128\n",
      "8 0.9147\n",
      "9 0.9156\n",
      "10 0.9158\n",
      "11 0.9159\n",
      "12 0.9168\n",
      "13 0.9169\n",
      "14 0.917\n",
      "15 0.9175\n",
      "16 0.9179\n",
      "17 0.9183\n",
      "18 0.9187\n",
      "19 0.9188\n",
      "20 0.9194\n",
      "21 0.9197\n",
      "22 0.9202\n",
      "23 0.92\n",
      "24 0.9203\n",
      "25 0.9203\n",
      "26 0.9204\n",
      "27 0.9203\n",
      "28 0.9204\n",
      "29 0.9206\n",
      "30 0.9211\n",
      "31 0.921\n",
      "32 0.921\n",
      "33 0.9211\n",
      "34 0.9209\n",
      "35 0.921\n",
      "36 0.9212\n",
      "37 0.9214\n",
      "38 0.9216\n",
      "39 0.9217\n",
      "40 0.9214\n",
      "41 0.9218\n",
      "42 0.9217\n",
      "43 0.9218\n",
      "44 0.9217\n",
      "45 0.9217\n",
      "46 0.9217\n",
      "47 0.922\n",
      "48 0.9218\n",
      "49 0.9217\n",
      "50 0.9217\n",
      "51 0.9218\n",
      "52 0.9219\n",
      "53 0.922\n",
      "54 0.9222\n",
      "55 0.9221\n",
      "56 0.9224\n",
      "57 0.9225\n",
      "58 0.9227\n",
      "59 0.9229\n",
      "60 0.9229\n",
      "61 0.923\n",
      "62 0.9231\n",
      "63 0.9231\n",
      "64 0.9231\n",
      "65 0.9231\n",
      "66 0.9232\n",
      "67 0.9232\n",
      "68 0.9233\n",
      "69 0.9234\n",
      "70 0.9234\n",
      "71 0.9234\n",
      "72 0.9234\n",
      "73 0.9235\n",
      "74 0.9234\n",
      "75 0.9235\n",
      "76 0.9235\n",
      "77 0.9234\n",
      "78 0.9232\n",
      "79 0.9235\n",
      "80 0.9235\n",
      "81 0.9235\n",
      "82 0.9235\n",
      "83 0.9235\n",
      "84 0.9235\n",
      "85 0.9235\n",
      "86 0.9233\n",
      "87 0.9233\n",
      "88 0.9234\n",
      "89 0.9233\n",
      "90 0.9233\n",
      "91 0.9232\n",
      "92 0.9233\n",
      "93 0.9233\n",
      "94 0.9235\n",
      "95 0.9234\n",
      "96 0.9235\n",
      "97 0.9233\n",
      "98 0.9233\n",
      "99 0.9233\n"
     ]
    }
   ],
   "source": [
    "from tensorflow.examples.tutorials.mnist import input_data\n",
    "# 初始化权重w\n",
    "def init_weights(shape):\n",
    "    return tf.Variable(tf.random_normal(shape, stddev=0.01))\n",
    "\n",
    "# 定义模型\n",
    "def model(X, w):\n",
    "    return tf.matmul(X, w) \n",
    "\n",
    "# 获取mnist 数据\n",
    "mnist = input_data.read_data_sets(\"MNIST_data/\", one_hot=True)\n",
    "trX, trY, teX, teY = mnist.train.images, mnist.train.labels, mnist.test.images, mnist.test.labels\n",
    "\n",
    "# 定义占位符变量\n",
    "X = tf.placeholder(\"float\", [None, 784]) \n",
    "Y = tf.placeholder(\"float\", [None, 10])\n",
    "\n",
    "w = init_weights([784, 10]) \n",
    "py_x = model(X, w)\n",
    "\n",
    "# 定义损失函数，交叉熵损失函数\n",
    "cost = tf.reduce_mean(tf.nn.softmax_cross_entropy_with_logits(py_x, Y)) \n",
    "\n",
    "# 训练操作，最小化损失函数\n",
    "train_op = tf.train.GradientDescentOptimizer(0.05).minimize(cost) \n",
    "\n",
    "# 预测操作，\n",
    "predict_op = tf.argmax(py_x, 1) \n",
    "\n",
    "# 定义会话\n",
    "sess = tf.Session()\n",
    "init = tf.initialize_all_variables()\n",
    "sess.run(init)\n",
    "\n",
    "# 调用多次梯度下降\n",
    "for i in range(100):\n",
    "    # 训练，每个batch，\n",
    "    for start, end in zip(range(0, len(trX), 128), range(128, len(trX), 128)):\n",
    "        sess.run(train_op, feed_dict={X: trX[start:end], Y: trY[start:end]})\n",
    "    # 测试，每个epoch\n",
    "    print i, np.mean(np.argmax(teY, axis=1) ==\n",
    "                     sess.run(predict_op, feed_dict={X: teX, Y: teY}))"
   ]
  },
  {
   "cell_type": "code",
   "execution_count": 7,
   "metadata": {
    "collapsed": false
   },
   "outputs": [
    {
     "name": "stdout",
     "output_type": "stream",
     "text": [
      "The slowest run took 26.31 times longer than the fastest. This could mean that an intermediate result is being cached.\n",
      "10000000 loops, best of 3: 109 ns per loop\n",
      "The slowest run took 38.32 times longer than the fastest. This could mean that an intermediate result is being cached.\n",
      "10000000 loops, best of 3: 156 ns per loop\n",
      "The slowest run took 34.77 times longer than the fastest. This could mean that an intermediate result is being cached.\n",
      "1000000 loops, best of 3: 693 ns per loop\n",
      "The slowest run took 10.80 times longer than the fastest. This could mean that an intermediate result is being cached.\n",
      "1000000 loops, best of 3: 265 ns per loop\n"
     ]
    }
   ],
   "source": [
    "persontype = np.dtype({\n",
    "        'names': ['name', 'age', 'weight'], \n",
    "        'formats': ['S32', 'i', 'f']\n",
    "    })\n",
    "a = np.array([(\"Zhang\", 32, 75.5), (\"Wang\", 24, 65.2)], dtype=persontype)\n",
    "%timeit a[1]\n",
    "%timeit a['name']\n",
    "%timeit a[1]['name']\n",
    "%timeit a['name'][1]"
   ]
  },
  {
   "cell_type": "code",
   "execution_count": 8,
   "metadata": {
    "collapsed": false
   },
   "outputs": [
    {
     "name": "stdout",
     "output_type": "stream",
     "text": [
      "0 [[ 0.5408504  -0.39501327]] [ 0.91111481]\n",
      "20 [[ 0.14222436 -0.00550158]] [ 0.39396366]\n",
      "40 [[ 0.10332326  0.14406639]] [ 0.32961255]\n",
      "60 [[ 0.09895143  0.18444969]] [ 0.30920762]\n",
      "80 [[ 0.09923692  0.19559805]] [ 0.30283692]\n",
      "100 [[ 0.0996725   0.19873527]] [ 0.3008686]\n",
      "120 [[ 0.09988005  0.19963233]] [ 0.30026475]\n",
      "140 [[ 0.09995924  0.19989212]] [ 0.30008042]\n",
      "160 [[ 0.0999867   0.19996814]] [ 0.30002436]\n",
      "180 [[ 0.09999577  0.19999054]] [ 0.30000737]\n",
      "200 [[ 0.09999867  0.19999719]] [ 0.30000225]\n"
     ]
    }
   ],
   "source": [
    "import tensorflow as tf\n",
    "import numpy as np\n",
    "\n",
    "# 使用 NumPy 生成假数据(phony data), 总共 100 个点.\n",
    "x_data = np.float32(np.random.rand(2, 100)) # 随机输入\n",
    "y_data = np.dot([0.100, 0.200], x_data) + 0.300\n",
    "\n",
    "# 构造一个线性模型\n",
    "# \n",
    "b = tf.Variable(tf.zeros([1]))\n",
    "W = tf.Variable(tf.random_uniform([1, 2], -1.0, 1.0))\n",
    "y = tf.matmul(W, x_data) + b\n",
    "\n",
    "# 最小化方差\n",
    "loss = tf.reduce_mean(tf.square(y - y_data))\n",
    "optimizer = tf.train.GradientDescentOptimizer(0.5)\n",
    "train = optimizer.minimize(loss)\n",
    "\n",
    "# 初始化变量\n",
    "init = tf.initialize_all_variables()\n",
    "\n",
    "# 启动图 (graph)\n",
    "sess = tf.Session()\n",
    "sess.run(init)\n",
    "\n",
    "# 拟合平面\n",
    "for step in xrange(0, 201):\n",
    "    sess.run(train)\n",
    "    if step % 20 == 0:\n",
    "        print step, sess.run(W), sess.run(b)\n",
    "\n",
    "# 得到最佳拟合结果 W: [[0.100  0.200]], b: [0.300]"
   ]
  },
  {
   "cell_type": "code",
   "execution_count": 16,
   "metadata": {
    "collapsed": false
   },
   "outputs": [
    {
     "data": {
      "text/plain": [
       "(891, 12)"
      ]
     },
     "execution_count": 16,
     "metadata": {},
     "output_type": "execute_result"
    }
   ],
   "source": [
    "import pandas\n",
    "data = pandas.read_csv('../tf_examples/data/titanic_train.csv')\n",
    "data.shape"
   ]
  },
  {
   "cell_type": "code",
   "execution_count": 17,
   "metadata": {
    "collapsed": false
   },
   "outputs": [
    {
     "data": {
      "text/plain": [
       "Index([u'PassengerId', u'Survived', u'Pclass', u'Name', u'Sex', u'Age',\n",
       "       u'SibSp', u'Parch', u'Ticket', u'Fare', u'Cabin', u'Embarked'],\n",
       "      dtype='object')"
      ]
     },
     "execution_count": 17,
     "metadata": {},
     "output_type": "execute_result"
    }
   ],
   "source": [
    "data.columns"
   ]
  },
  {
   "cell_type": "code",
   "execution_count": 18,
   "metadata": {
    "collapsed": false
   },
   "outputs": [
    {
     "data": {
      "text/html": [
       "<div>\n",
       "<table border=\"1\" class=\"dataframe\">\n",
       "  <thead>\n",
       "    <tr style=\"text-align: right;\">\n",
       "      <th></th>\n",
       "      <th>PassengerId</th>\n",
       "      <th>Survived</th>\n",
       "      <th>Pclass</th>\n",
       "      <th>Name</th>\n",
       "      <th>Sex</th>\n",
       "      <th>Age</th>\n",
       "      <th>SibSp</th>\n",
       "      <th>Parch</th>\n",
       "      <th>Ticket</th>\n",
       "      <th>Fare</th>\n",
       "      <th>Cabin</th>\n",
       "      <th>Embarked</th>\n",
       "    </tr>\n",
       "  </thead>\n",
       "  <tbody>\n",
       "    <tr>\n",
       "      <th>0</th>\n",
       "      <td>1</td>\n",
       "      <td>0</td>\n",
       "      <td>3</td>\n",
       "      <td>Braund, Mr. Owen Harris</td>\n",
       "      <td>male</td>\n",
       "      <td>22.0</td>\n",
       "      <td>1</td>\n",
       "      <td>0</td>\n",
       "      <td>A/5 21171</td>\n",
       "      <td>7.25</td>\n",
       "      <td>NaN</td>\n",
       "      <td>S</td>\n",
       "    </tr>\n",
       "  </tbody>\n",
       "</table>\n",
       "</div>"
      ],
      "text/plain": [
       "   PassengerId  Survived  Pclass                     Name   Sex   Age  SibSp  \\\n",
       "0            1         0       3  Braund, Mr. Owen Harris  male  22.0      1   \n",
       "\n",
       "   Parch     Ticket  Fare Cabin Embarked  \n",
       "0      0  A/5 21171  7.25   NaN        S  "
      ]
     },
     "execution_count": 18,
     "metadata": {},
     "output_type": "execute_result"
    }
   ],
   "source": [
    "data[:1]"
   ]
  },
  {
   "cell_type": "code",
   "execution_count": 27,
   "metadata": {
    "collapsed": false
   },
   "outputs": [
    {
     "name": "stdout",
     "output_type": "stream",
     "text": [
      "0.664804469274\n"
     ]
    }
   ],
   "source": [
    "import random\n",
    "import pandas\n",
    "from sklearn.linear_model import LogisticRegression\n",
    "from sklearn.metrics import accuracy_score\n",
    "from sklearn.utils import check_array\n",
    "from sklearn.cross_validation import train_test_split\n",
    "\n",
    "import tensorflow as tf\n",
    "from tensorflow.contrib import layers\n",
    "from tensorflow.contrib import learn\n",
    "\n",
    "y, X = data['Survived'], data[['Age', 'SibSp', 'Fare']].fillna(0)\n",
    "X_train, X_test, y_train, y_test = cross_validation.train_test_split(X, y, test_size=0.2, random_state=42)\n",
    "lr = LogisticRegression()\n",
    "lr.fit(X_train, y_train)\n",
    "print accuracy_score(lr.predict(X_test), y_test)"
   ]
  },
  {
   "cell_type": "code",
   "execution_count": 28,
   "metadata": {
    "collapsed": false
   },
   "outputs": [
    {
     "name": "stdout",
     "output_type": "stream",
     "text": [
      "[[ 12.]]\n"
     ]
    }
   ],
   "source": [
    "# 创建一个常量 op, 产生一个 1x2 矩阵. 这个 op 被作为一个节点\n",
    "# 加到默认图中.\n",
    "#\n",
    "# 构造器的返回值代表该常量 op 的返回值.\n",
    "matrix1 = tf.constant([[3., 3.]])\n",
    "\n",
    "# 创建另外一个常量 op, 产生一个 2x1 矩阵.\n",
    "matrix2 = tf.constant([[2.],[2.]])\n",
    "\n",
    "# 创建一个矩阵乘法 matmul op , 把 'matrix1' 和 'matrix2' 作为输入.\n",
    "# 返回值 'product' 代表矩阵乘法的结果.\n",
    "product = tf.matmul(matrix1, matrix2)\n",
    "# 启动默认图.\n",
    "sess = tf.Session()\n",
    "\n",
    "# 调用 sess 的 'run()' 方法来执行矩阵乘法 op, 传入 'product' 作为该方法的参数. \n",
    "# 上面提到, 'product' 代表了矩阵乘法 op 的输出, 传入它是向方法表明, 我们希望取回\n",
    "# 矩阵乘法 op 的输出.\n",
    "#\n",
    "# 整个执行过程是自动化的, 会话负责传递 op 所需的全部输入. op 通常是并发执行的.\n",
    "# \n",
    "# 函数调用 'run(product)' 触发了图中三个 op (两个常量 op 和一个矩阵乘法 op) 的执行.\n",
    "#\n",
    "# 返回值 'result' 是一个 numpy `ndarray` 对象.\n",
    "result = sess.run(product)\n",
    "print result\n",
    "# ==> [[ 12.]]\n",
    "\n",
    "# 任务完成, 关闭会话.\n",
    "sess.close()"
   ]
  },
  {
   "cell_type": "code",
   "execution_count": null,
   "metadata": {
    "collapsed": true
   },
   "outputs": [],
   "source": []
  }
 ],
 "metadata": {
  "kernelspec": {
   "display_name": "Python 2",
   "language": "python",
   "name": "python2"
  },
  "language_info": {
   "codemirror_mode": {
    "name": "ipython",
    "version": 2
   },
   "file_extension": ".py",
   "mimetype": "text/x-python",
   "name": "python",
   "nbconvert_exporter": "python",
   "pygments_lexer": "ipython2",
   "version": "2.7.11"
  }
 },
 "nbformat": 4,
 "nbformat_minor": 0
}
